{
 "cells": [
  {
   "cell_type": "markdown",
   "metadata": {},
   "source": [
    "# Analyzing the Stroop Effect\n",
    "Perform the analysis in the space below. Remember to follow [the instructions](https://docs.google.com/document/d/1-OkpZLjG_kX9J6LIQ5IltsqMzVWjh36QpnP2RYpVdPU/pub?embedded=True) and review the [project rubric](https://review.udacity.com/#!/rubrics/71/view) before submitting. Once you've completed the analysis and write up, download this file as a PDF or HTML file and submit in the next section.\n",
    "\n",
    "## Table of Contents\n",
    "<ol>\n",
    "<li><a href=\"#variables\">Variables</a></li>\n",
    "<li><a href=\"#hypo\">Hypothesis</a></li>\n",
    "<li><a href=\"#desc\">Descriptive Statistics</a></li>\n",
    "<li><a href=\"#viz\">Visualizations</a></li>\n",
    "<li><a href=\"#stats\">Statistical Analysis & Reporting</a></li>\n",
    "<li><a href=\"#opt\">Optional Task</a></li>\n",
    "</ol>\n"
   ]
  },
  {
   "cell_type": "markdown",
   "metadata": {},
   "source": [
    "<a id='variables'></a>\n",
    "## (1) Variables\n",
    "\n",
    "\n",
    "### What is the independent variable? What is the dependent variable?\n",
    "- Independent variable is reaction time in word-color congruence test i.e. time taken in tests where the word and color of the printed word matched.\n",
    "- Dependent variable is reaction time in word-color incongruence test i.e. time taken in tests where the word and color of the printed word did not match.\n"
   ]
  },
  {
   "cell_type": "markdown",
   "metadata": {},
   "source": [
    "<a id='hypo'></a>\n",
    "## (2) Hypothesis\n",
    "\n",
    "### What is an appropriate set of hypotheses for this task? What kind of statistical test do you expect to perform? Justify your choices.\n",
    "- We run a **paired t-test** for hypothesis testing here. \n",
    "- We state that reaction times for word-color match and mismatch word color are the same.\n",
    "\n",
    "### Hypothesis\n",
    "- Null Hypothesis ->  $H_{0}$ : $t_{match}$ -  $t_{mismatch}$ = 0 # \n",
    "- Alternate Hypothesis -> $H_{1}$ : $t_{match}$ -  $t_{mismatch}$ != 0 \n",
    "- $t_{match}$ is reaction time for Congruent set while $t_{mismatch}$ is reaction time for Incongruent set\n",
    "\n",
    "### Justification for paired t-test :\n",
    "- Here, the sample size is less than 30\n",
    "- The experiment is similar to Before and After experiment as the first set trained subjects on the study while the second set showed the Stroop Effect Incongruent set of words.\n",
    "- Thus, the second set is Dependent set and the reaction times in this set cannot be considered completely independent.\n",
    "- Hence, we use the paired t-test"
   ]
  },
  {
   "cell_type": "markdown",
   "metadata": {},
   "source": [
    "<a id='desc'></a>\n",
    "## (3) Descriptive Statistics\n",
    "\n",
    "#### Report some descriptive statistics regarding this dataset. \n",
    "Include at least one measure of central tendency and at least one measure of variability. The name of the data file is 'stroopdata.csv'."
   ]
  },
  {
   "cell_type": "code",
   "execution_count": 24,
   "metadata": {
    "collapsed": true
   },
   "outputs": [],
   "source": [
    "## Import the packages\n",
    "import pandas as pd\n",
    "import numpy as np\n",
    "import scipy.stats as stats\n",
    "import math\n",
    "import random\n",
    "import matplotlib.pyplot as plt\n",
    "%matplotlib inline"
   ]
  },
  {
   "cell_type": "code",
   "execution_count": 25,
   "metadata": {},
   "outputs": [
    {
     "data": {
      "text/html": [
       "<div>\n",
       "<style>\n",
       "    .dataframe thead tr:only-child th {\n",
       "        text-align: right;\n",
       "    }\n",
       "\n",
       "    .dataframe thead th {\n",
       "        text-align: left;\n",
       "    }\n",
       "\n",
       "    .dataframe tbody tr th {\n",
       "        vertical-align: top;\n",
       "    }\n",
       "</style>\n",
       "<table border=\"1\" class=\"dataframe\">\n",
       "  <thead>\n",
       "    <tr style=\"text-align: right;\">\n",
       "      <th></th>\n",
       "      <th>Congruent</th>\n",
       "      <th>Incongruent</th>\n",
       "    </tr>\n",
       "  </thead>\n",
       "  <tbody>\n",
       "    <tr>\n",
       "      <th>0</th>\n",
       "      <td>12.079</td>\n",
       "      <td>19.278</td>\n",
       "    </tr>\n",
       "    <tr>\n",
       "      <th>1</th>\n",
       "      <td>16.791</td>\n",
       "      <td>18.741</td>\n",
       "    </tr>\n",
       "    <tr>\n",
       "      <th>2</th>\n",
       "      <td>9.564</td>\n",
       "      <td>21.214</td>\n",
       "    </tr>\n",
       "    <tr>\n",
       "      <th>3</th>\n",
       "      <td>8.630</td>\n",
       "      <td>15.687</td>\n",
       "    </tr>\n",
       "    <tr>\n",
       "      <th>4</th>\n",
       "      <td>14.669</td>\n",
       "      <td>22.803</td>\n",
       "    </tr>\n",
       "  </tbody>\n",
       "</table>\n",
       "</div>"
      ],
      "text/plain": [
       "   Congruent  Incongruent\n",
       "0     12.079       19.278\n",
       "1     16.791       18.741\n",
       "2      9.564       21.214\n",
       "3      8.630       15.687\n",
       "4     14.669       22.803"
      ]
     },
     "execution_count": 25,
     "metadata": {},
     "output_type": "execute_result"
    }
   ],
   "source": [
    "# read dataset\n",
    "df = pd.read_csv('stroopdata.csv')\n",
    "\n",
    "# inspect dataset\n",
    "df.head()"
   ]
  },
  {
   "cell_type": "code",
   "execution_count": 26,
   "metadata": {},
   "outputs": [
    {
     "name": "stdout",
     "output_type": "stream",
     "text": [
      "<class 'pandas.core.frame.DataFrame'>\n",
      "RangeIndex: 24 entries, 0 to 23\n",
      "Data columns (total 2 columns):\n",
      "Congruent      24 non-null float64\n",
      "Incongruent    24 non-null float64\n",
      "dtypes: float64(2)\n",
      "memory usage: 464.0 bytes\n"
     ]
    }
   ],
   "source": [
    "# inspect dataset values\n",
    "df.info()"
   ]
  },
  {
   "cell_type": "code",
   "execution_count": 27,
   "metadata": {},
   "outputs": [
    {
     "data": {
      "text/html": [
       "<div>\n",
       "<style>\n",
       "    .dataframe thead tr:only-child th {\n",
       "        text-align: right;\n",
       "    }\n",
       "\n",
       "    .dataframe thead th {\n",
       "        text-align: left;\n",
       "    }\n",
       "\n",
       "    .dataframe tbody tr th {\n",
       "        vertical-align: top;\n",
       "    }\n",
       "</style>\n",
       "<table border=\"1\" class=\"dataframe\">\n",
       "  <thead>\n",
       "    <tr style=\"text-align: right;\">\n",
       "      <th></th>\n",
       "      <th>Congruent</th>\n",
       "      <th>Incongruent</th>\n",
       "    </tr>\n",
       "  </thead>\n",
       "  <tbody>\n",
       "    <tr>\n",
       "      <th>count</th>\n",
       "      <td>24.000000</td>\n",
       "      <td>24.000000</td>\n",
       "    </tr>\n",
       "    <tr>\n",
       "      <th>mean</th>\n",
       "      <td>14.051125</td>\n",
       "      <td>22.015917</td>\n",
       "    </tr>\n",
       "    <tr>\n",
       "      <th>std</th>\n",
       "      <td>3.559358</td>\n",
       "      <td>4.797057</td>\n",
       "    </tr>\n",
       "    <tr>\n",
       "      <th>min</th>\n",
       "      <td>8.630000</td>\n",
       "      <td>15.687000</td>\n",
       "    </tr>\n",
       "    <tr>\n",
       "      <th>25%</th>\n",
       "      <td>11.895250</td>\n",
       "      <td>18.716750</td>\n",
       "    </tr>\n",
       "    <tr>\n",
       "      <th>50%</th>\n",
       "      <td>14.356500</td>\n",
       "      <td>21.017500</td>\n",
       "    </tr>\n",
       "    <tr>\n",
       "      <th>75%</th>\n",
       "      <td>16.200750</td>\n",
       "      <td>24.051500</td>\n",
       "    </tr>\n",
       "    <tr>\n",
       "      <th>max</th>\n",
       "      <td>22.328000</td>\n",
       "      <td>35.255000</td>\n",
       "    </tr>\n",
       "  </tbody>\n",
       "</table>\n",
       "</div>"
      ],
      "text/plain": [
       "       Congruent  Incongruent\n",
       "count  24.000000    24.000000\n",
       "mean   14.051125    22.015917\n",
       "std     3.559358     4.797057\n",
       "min     8.630000    15.687000\n",
       "25%    11.895250    18.716750\n",
       "50%    14.356500    21.017500\n",
       "75%    16.200750    24.051500\n",
       "max    22.328000    35.255000"
      ]
     },
     "execution_count": 27,
     "metadata": {},
     "output_type": "execute_result"
    }
   ],
   "source": [
    "# Calculate descriptive statistics for dataframe values. This includes count, avaerage/ mean and interquartile ranges\n",
    "df.describe()"
   ]
  },
  {
   "cell_type": "markdown",
   "metadata": {},
   "source": [
    "Here, we need to calculate at least one measure of central tendency and at least one measure of variability.\n",
    "Hence, we compute  the following values:\n",
    "- Median for measure of central tendency\n",
    "- Mean and interquartile ranges are already computed in above step.\n",
    "- We also compute variance and standard deviation as measures of variability."
   ]
  },
  {
   "cell_type": "code",
   "execution_count": 28,
   "metadata": {},
   "outputs": [
    {
     "data": {
      "text/plain": [
       "Congruent      14.3565\n",
       "Incongruent    21.0175\n",
       "dtype: float64"
      ]
     },
     "execution_count": 28,
     "metadata": {},
     "output_type": "execute_result"
    }
   ],
   "source": [
    "# determine median\n",
    "df.median()"
   ]
  },
  {
   "cell_type": "code",
   "execution_count": 29,
   "metadata": {},
   "outputs": [
    {
     "data": {
      "text/plain": [
       "Congruent      12.669029\n",
       "Incongruent    23.011757\n",
       "dtype: float64"
      ]
     },
     "execution_count": 29,
     "metadata": {},
     "output_type": "execute_result"
    }
   ],
   "source": [
    "# determine variance\n",
    "df.var()"
   ]
  },
  {
   "cell_type": "code",
   "execution_count": 30,
   "metadata": {
    "scrolled": true
   },
   "outputs": [
    {
     "data": {
      "text/plain": [
       "Congruent      3.559358\n",
       "Incongruent    4.797057\n",
       "dtype: float64"
      ]
     },
     "execution_count": 30,
     "metadata": {},
     "output_type": "execute_result"
    }
   ],
   "source": [
    "# determine standard deviation\n",
    "df.std()"
   ]
  },
  {
   "cell_type": "markdown",
   "metadata": {},
   "source": [
    "<a id='viz'></a>\n",
    "## (4) Visualizations:\n",
    "Provide one or two visualizations that show the distribution of the sample data. Write one or two sentences noting what you observe about the plot or plots."
   ]
  },
  {
   "cell_type": "code",
   "execution_count": 31,
   "metadata": {
    "collapsed": true
   },
   "outputs": [],
   "source": [
    "# Build the visualizations here\n",
    "# Firs we plot histograms for values in Congruent and Incongruent sets"
   ]
  },
  {
   "cell_type": "code",
   "execution_count": 32,
   "metadata": {},
   "outputs": [
    {
     "data": {
      "image/png": "[encoded data removed]",
      "text/plain": [
       "<matplotlib.figure.Figure at 0x1a19a8fb70>"
      ]
     },
     "metadata": {},
     "output_type": "display_data"
    }
   ],
   "source": [
    "# Build the visualizations for Congruent set\n",
    "plt.hist(df['Congruent'])\n",
    "plt.xlabel('Congruent')\n",
    "plt.ylabel('Frequency')\n",
    "plt.title('Plot of Congruent set in Stroop effect');"
   ]
  },
  {
   "cell_type": "code",
   "execution_count": 33,
   "metadata": {},
   "outputs": [
    {
     "data": {
      "image/png": "[encoded data removed]",
      "text/plain": [
       "<matplotlib.figure.Figure at 0x1a19974ef0>"
      ]
     },
     "metadata": {},
     "output_type": "display_data"
    }
   ],
   "source": [
    "# Build the visualizations for Incongruent set\n",
    "plt.hist(df['Incongruent'])\n",
    "plt.xlabel('Incongruent')\n",
    "plt.ylabel('Frequency')\n",
    "plt.title('Plot of Incongruent set in Stroop effect');"
   ]
  },
  {
   "cell_type": "code",
   "execution_count": 34,
   "metadata": {},
   "outputs": [
    {
     "data": {
      "image/png": "[encoded data removed]",
      "text/plain": [
       "<matplotlib.figure.Figure at 0x1a1988f0b8>"
      ]
     },
     "metadata": {},
     "output_type": "display_data"
    }
   ],
   "source": [
    "# plotting reacton times for congruent and incongruent sets\n",
    "plt.scatter(x = df['Congruent'], y = df['Incongruent']);\n",
    "plt.xlabel('Congruent')\n",
    "plt.ylabel('Incongruent')\n",
    "plt.title('COngruent Reaction Time vs Incongruent Reaction Time');"
   ]
  },
  {
   "cell_type": "code",
   "execution_count": 35,
   "metadata": {},
   "outputs": [
    {
     "data": {
      "text/html": [
       "<div>\n",
       "<style>\n",
       "    .dataframe thead tr:only-child th {\n",
       "        text-align: right;\n",
       "    }\n",
       "\n",
       "    .dataframe thead th {\n",
       "        text-align: left;\n",
       "    }\n",
       "\n",
       "    .dataframe tbody tr th {\n",
       "        vertical-align: top;\n",
       "    }\n",
       "</style>\n",
       "<table border=\"1\" class=\"dataframe\">\n",
       "  <thead>\n",
       "    <tr style=\"text-align: right;\">\n",
       "      <th></th>\n",
       "      <th>Congruent</th>\n",
       "      <th>Incongruent</th>\n",
       "    </tr>\n",
       "  </thead>\n",
       "  <tbody>\n",
       "    <tr>\n",
       "      <th>Congruent</th>\n",
       "      <td>1.00000</td>\n",
       "      <td>0.35182</td>\n",
       "    </tr>\n",
       "    <tr>\n",
       "      <th>Incongruent</th>\n",
       "      <td>0.35182</td>\n",
       "      <td>1.00000</td>\n",
       "    </tr>\n",
       "  </tbody>\n",
       "</table>\n",
       "</div>"
      ],
      "text/plain": [
       "             Congruent  Incongruent\n",
       "Congruent      1.00000      0.35182\n",
       "Incongruent    0.35182      1.00000"
      ]
     },
     "execution_count": 35,
     "metadata": {},
     "output_type": "execute_result"
    }
   ],
   "source": [
    "# We calculate correlation between the reaction times for congruent and incongruent experiments to see relation if any\n",
    "df.corr()"
   ]
  },
  {
   "cell_type": "markdown",
   "metadata": {},
   "source": [
    "We make the following observations from the plots above:\n",
    "- For word-color match, most likey reaction time is 14-15 seconds.\n",
    "- For word-color mismatch, most likey reaction time is 20-21 seconds.\n",
    "- Both distributions are right skewed. The incongruent set however, shows no values in the 27 and 33.5 range\n",
    "- We view a roughly positive, proportional correlation with few outliers. But, as seen in the calculated values (above), the correlation is not very strong."
   ]
  },
  {
   "cell_type": "markdown",
   "metadata": {},
   "source": [
    "<a id='stats'></a>\n",
    "## (5) Statistical Analysis & Reporting:\n",
    "Now, perform the statistical test and report the results. What is the confidence level and your critical statistic value? Do you reject the null hypothesis or fail to reject it? Come to a conclusion in terms of the experiment task. Did the results match up with your expectations?"
   ]
  },
  {
   "cell_type": "markdown",
   "metadata": {
    "collapsed": true
   },
   "source": [
    "### Perform the statistical test here"
   ]
  },
  {
   "cell_type": "code",
   "execution_count": 36,
   "metadata": {},
   "outputs": [
    {
     "name": "stdout",
     "output_type": "stream",
     "text": [
      "Sample Size N is 24\n"
     ]
    }
   ],
   "source": [
    "# Evaluate Sample Size from shape function applied to dataset\n",
    "N = df.shape[0]\n",
    "print(\"Sample Size N is {}\".format(N))"
   ]
  },
  {
   "cell_type": "code",
   "execution_count": 37,
   "metadata": {
    "collapsed": true
   },
   "outputs": [],
   "source": [
    "# Get distribution of Congruent experiment values\n",
    "a = df['Congruent']\n",
    "# distribution of Incongruent experiment values\n",
    "b = df['Incongruent']"
   ]
  },
  {
   "cell_type": "code",
   "execution_count": 38,
   "metadata": {},
   "outputs": [
    {
     "name": "stdout",
     "output_type": "stream",
     "text": [
      "12.669029070652174 23.011757036231884\n"
     ]
    }
   ],
   "source": [
    "# We have to calculate the Standard Deviation. Hence, first we compute the variance\n",
    "#For unbiased max likelihood estimate we have to divide the var by N-1, and therefore the parameter ddof = 1\n",
    "\n",
    "var_a = a.var(ddof=1)\n",
    "var_b = b.var(ddof=1)\n",
    "\n",
    "print(var_a, var_b)"
   ]
  },
  {
   "cell_type": "code",
   "execution_count": 39,
   "metadata": {},
   "outputs": [
    {
     "name": "stdout",
     "output_type": "stream",
     "text": [
      "Standard Deviation is 4.223788945182042\n"
     ]
    }
   ],
   "source": [
    "## Calculate the Standard Deviation\n",
    "s = np.sqrt((var_a + var_b)/2)\n",
    "print(\"Standard Deviation is {}\".format(s))"
   ]
  },
  {
   "cell_type": "code",
   "execution_count": 40,
   "metadata": {},
   "outputs": [
    {
     "name": "stdout",
     "output_type": "stream",
     "text": [
      "t-value is -6.5322505539032285\n"
     ]
    }
   ],
   "source": [
    "## Calculate the t-statistics using formula\n",
    "t = (a.mean() - b.mean())/(s*np.sqrt(2/N))\n",
    "print(\"t-value is {}\".format(t))\n",
    "\n",
    "# Here, negative sign indicates direction"
   ]
  },
  {
   "cell_type": "code",
   "execution_count": 41,
   "metadata": {},
   "outputs": [
    {
     "name": "stdout",
     "output_type": "stream",
     "text": [
      "Degree of Freedom is 46\n"
     ]
    }
   ],
   "source": [
    "# We need to compare degree of freedom with the critical t-value\n",
    "# So, we calculate Degrees of freedom using the formula\n",
    "degF = 2*N - 2\n",
    "print(\"Degree of Freedom is {}\".format(degF))"
   ]
  },
  {
   "cell_type": "code",
   "execution_count": 42,
   "metadata": {},
   "outputs": [
    {
     "name": "stdout",
     "output_type": "stream",
     "text": [
      "p-value is 0.9999999770252552\n"
     ]
    }
   ],
   "source": [
    "# Calculate p-value\n",
    "p = 1 - stats.t.cdf(t,degF)\n",
    "\n",
    "print(\"p-value is {}\".format(p))"
   ]
  },
  {
   "cell_type": "code",
   "execution_count": 45,
   "metadata": {},
   "outputs": [
    {
     "name": "stdout",
     "output_type": "stream",
     "text": [
      "t-value is 6.5322505539032285\n",
      "p-value is 1.9999999540505105\n"
     ]
    }
   ],
   "source": [
    "print(\"t-value is {}\".format(abs(t)))\n",
    "print(\"p-value is {}\".format(2*p))\n",
    "# Here, we multiply the p value by 2 because it's a two tail t-test\n",
    "# After comparing the t statistic with the critical t value, we get p-values as 1.9999. "
   ]
  },
  {
   "cell_type": "code",
   "execution_count": 46,
   "metadata": {},
   "outputs": [
    {
     "name": "stdout",
     "output_type": "stream",
     "text": [
      "t-value is 6.5322505539032285\n",
      "p-value is 9.189897924590371e-08\n"
     ]
    }
   ],
   "source": [
    "## Cross Checking with the internal scipy function\n",
    "t2, p2 = stats.ttest_ind(a,b)\n",
    "print(\"t-value is {}\".format(abs(t2)))\n",
    "print(\"p-value is {}\".format(2*p2))"
   ]
  },
  {
   "cell_type": "markdown",
   "metadata": {},
   "source": [
    "#### Observations & Hypothesis Conclusions\n",
    "- As calculated t-value is greater than p-value, we reject the null hypothesis.\n",
    "- That is, we reject the null hypothesis that the reaction times are not different.\n",
    "- We accept the Alternate Hypothesis that reaction times are different and that Stroop effect is valid.\n",
    "- Thus, proved that the two distributions are different and statistically significant.\n",
    "- Note: Here, we disregard the negative sign of the t-values as it is only indicative of direction.\n",
    "- Confidence interval used is 95%"
   ]
  },
  {
   "cell_type": "markdown",
   "metadata": {},
   "source": [
    "<a id='opt'></a>\n",
    "## (6) Optional Task\n",
    "\n",
    "- **What do you think is responsible for the effects observed? ** Reading is quicker than analysing the color. When the two are matched, the process is simple. When the two are micmatched as in the second experiment, it takes focus and conscious effort to dissociate the two, process the color while suppressing the reading of te word and then naming only the color out loud.\n",
    "- **Can you think of an alternative or similar task that would result in a similar effect?**  Shape-word effect. Words are printed in black in the shape particpants are asked to identify. Then, print words in black in shapes that are not matching the actual shape-word. Another task could be where paricipants are shown word-color mismatches in a language they are comfortable reading in. Then, showing the same color-word mismatch but in a language they cannot read in. This would demonstrate that when posed with only color (even if mismatched in the foreign language), subjects are able to process better as only color identification is enabled.\n",
    "- **Some research about the problem will be helpful for thinking about these two questions!** Used Wikipedia link to study this further at https://en.wikipedia.org/wiki/Stroop_effect"
   ]
  },
  {
   "cell_type": "markdown",
   "metadata": {
    "collapsed": true
   },
   "source": [
    "#### Resources:\n",
    "- http://www.statisticshowto.com/probability-and-statistics/t-test/\n",
    "- http://www.statisticssolutions.com/manova-analysis-paired-sample-t-test/\n",
    "- https://www.statsdirect.com/help/parametric_methods/paired_t.htm\n",
    "- https://towardsdatascience.com/inferential-statistics-series-t-test-using-numpy-2718f8f9bf2f\n",
    "- https://en.wikipedia.org/wiki/Stroop_effect\n",
    "\n",
    "#### Notes: \n",
    "- t-value and p-values are also calculated with 95% confidence interval in Excel using formula for paired t-test. \n",
    "- Results and conclusions match those calculated here.\n"
   ]
  },
  {
   "cell_type": "code",
   "execution_count": null,
   "metadata": {
    "collapsed": true
   },
   "outputs": [],
   "source": []
  }
 ],
 "metadata": {
  "kernelspec": {
   "display_name": "Python 3",
   "language": "python",
   "name": "python3"
  },
  "language_info": {
   "codemirror_mode": {
    "name": "ipython",
    "version": 3
   },
   "file_extension": ".py",
   "mimetype": "text/x-python",
   "name": "python",
   "nbconvert_exporter": "python",
   "pygments_lexer": "ipython3",
   "version": "3.6.2"
  }
 },
 "nbformat": 4,
 "nbformat_minor": 2
}
